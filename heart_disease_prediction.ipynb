{
  "metadata": {
    "kernelspec": {
      "name": "python",
      "display_name": "Python (Pyodide)",
      "language": "python"
    },
    "language_info": {
      "codemirror_mode": {
        "name": "python",
        "version": 3
      },
      "file_extension": ".py",
      "mimetype": "text/x-python",
      "name": "python",
      "nbconvert_exporter": "python",
      "pygments_lexer": "ipython3",
      "version": "3.8"
    }
  },
  "nbformat_minor": 5,
  "nbformat": 4,
  "cells": [
    {
      "id": "44548154-33e5-47f0-b065-0ce75dea01aa",
      "cell_type": "code",
      "source": "import pandas as pd",
      "metadata": {
        "trusted": true
      },
      "outputs": [],
      "execution_count": 7
    },
    {
      "id": "e98420ee-acf7-4fc3-919e-f1da4aa69c0e",
      "cell_type": "code",
      "source": "# Load the dataset\nfile_path = \"Heart_Disease_Prediction.csv\"\ndf = pd.read_csv(file_path)",
      "metadata": {
        "trusted": true
      },
      "outputs": [],
      "execution_count": 8
    },
    {
      "id": "9ab03207-e3e1-4626-8ec7-3cc396d049df",
      "cell_type": "code",
      "source": "print(df.info())",
      "metadata": {
        "trusted": true
      },
      "outputs": [
        {
          "name": "stdout",
          "output_type": "stream",
          "text": "<class 'pandas.core.frame.DataFrame'>\nRangeIndex: 270 entries, 0 to 269\nData columns (total 14 columns):\n #   Column                   Non-Null Count  Dtype  \n---  ------                   --------------  -----  \n 0   Age                      270 non-null    int64  \n 1   Sex                      270 non-null    int64  \n 2   Chest pain type          270 non-null    int64  \n 3   BP                       270 non-null    int64  \n 4   Cholesterol              270 non-null    int64  \n 5   FBS over 120             270 non-null    int64  \n 6   EKG results              270 non-null    int64  \n 7   Max HR                   270 non-null    int64  \n 8   Exercise angina          270 non-null    int64  \n 9   ST depression            270 non-null    float64\n 10  Slope of ST              270 non-null    int64  \n 11  Number of vessels fluro  270 non-null    int64  \n 12  Thallium                 270 non-null    int64  \n 13  Heart Disease            270 non-null    object \ndtypes: float64(1), int64(12), object(1)\nmemory usage: 28.5+ KB\nNone\n"
        }
      ],
      "execution_count": 9
    },
    {
      "id": "ee03e426-297d-4ed9-8d2a-44f418ff8f10",
      "cell_type": "code",
      "source": "print(df.head())",
      "metadata": {
        "trusted": true
      },
      "outputs": [
        {
          "name": "stdout",
          "output_type": "stream",
          "text": "   Age  Sex  Chest pain type   BP  Cholesterol  FBS over 120  EKG results  \\\n0   70    1                4  130          322             0            2   \n1   67    0                3  115          564             0            2   \n2   57    1                2  124          261             0            0   \n3   64    1                4  128          263             0            0   \n4   74    0                2  120          269             0            2   \n\n   Max HR  Exercise angina  ST depression  Slope of ST  \\\n0     109                0            2.4            2   \n1     160                0            1.6            2   \n2     141                0            0.3            1   \n3     105                1            0.2            2   \n4     121                1            0.2            1   \n\n   Number of vessels fluro  Thallium Heart Disease  \n0                        3         3      Presence  \n1                        0         7       Absence  \n2                        0         7      Presence  \n3                        1         7       Absence  \n4                        1         3       Absence  \n"
        }
      ],
      "execution_count": 10
    },
    {
      "id": "7aa48197-d56b-449a-a00f-b822b4069f1d",
      "cell_type": "code",
      "source": "#convert them to numbers:\n\n#Presence → 1\n#Absence → 0\n\n# Convert 'Heart Disease' column to numerical values\ndf['Heart Disease'] = df['Heart Disease'].map({'Absence': 0, 'Presence': 1})\n\n# Check if the conversion worked\nprint(df['Heart Disease'].value_counts())",
      "metadata": {
        "trusted": true
      },
      "outputs": [
        {
          "name": "stdout",
          "output_type": "stream",
          "text": "Heart Disease\n0    150\n1    120\nName: count, dtype: int64\n"
        }
      ],
      "execution_count": 11
    },
    {
      "id": "8c65e895-bded-4477-90b9-c76c647285f1",
      "cell_type": "code",
      "source": "import matplotlib.pyplot as plt\n\n# Plot the distribution of the target variable\ndf['Heart Disease'].value_counts().plot(kind='bar', color=['blue', 'red'])\nplt.xlabel(\"Heart Disease (0 = Absence, 1 = Presence)\")\nplt.ylabel(\"Count\")\nplt.title(\"Distribution of Heart Disease Cases\")\nplt.show()\n",
      "metadata": {
        "trusted": true
      },
      "outputs": [
        {
          "name": "stderr",
          "output_type": "stream",
          "text": "Matplotlib is building the font cache; this may take a moment.\n"
        },
        {
          "output_type": "display_data",
          "data": {
            "text/plain": "<Figure size 640x480 with 1 Axes>",
            "image/png": "[encoded data removed]"
          },
          "metadata": {}
        }
      ],
      "execution_count": 6
    },
    {
      "id": "8f8047c6-d137-4d20-a826-334aa3c765cd",
      "cell_type": "code",
      "source": "# Check for missing values\nprint(df.isnull().sum())\n",
      "metadata": {
        "trusted": true
      },
      "outputs": [
        {
          "name": "stdout",
          "output_type": "stream",
          "text": "Age                        0\nSex                        0\nChest pain type            0\nBP                         0\nCholesterol                0\nFBS over 120               0\nEKG results                0\nMax HR                     0\nExercise angina            0\nST depression              0\nSlope of ST                0\nNumber of vessels fluro    0\nThallium                   0\nHeart Disease              0\ndtype: int64\n"
        }
      ],
      "execution_count": 12
    },
    {
      "id": "3354da36-f30d-409e-adc3-4a45c84bd42c",
      "cell_type": "code",
      "source": "# Define features (X) and target variable (y)\nX = df.drop(columns=['Heart Disease'])  # Drop target column\ny = df['Heart Disease']  # Target variable\n",
      "metadata": {
        "trusted": true
      },
      "outputs": [],
      "execution_count": 13
    },
    {
      "id": "5f4730a2-fcf7-42a1-8c67-9ff65b3531ef",
      "cell_type": "code",
      "source": "from sklearn.model_selection import train_test_split\n\n# Split data (80% train, 20% test)\nX_train, X_test, y_train, y_test = train_test_split(X, y, test_size=0.2, random_state=42)\n\n# Check the shape of the datasets\nprint(f\"Training set: {X_train.shape}, Testing set: {X_test.shape}\")\n",
      "metadata": {
        "trusted": true
      },
      "outputs": [
        {
          "name": "stdout",
          "output_type": "stream",
          "text": "Training set: (216, 13), Testing set: (54, 13)\n"
        }
      ],
      "execution_count": 14
    },
    {
      "id": "7a876363-b338-428a-a222-ab7532b100ac",
      "cell_type": "code",
      "source": "from sklearn.preprocessing import StandardScaler\n\n# Initialize the scaler\nscaler = StandardScaler()\n\n# Fit on training data and transform both train & test data\nX_train = scaler.fit_transform(X_train)\nX_test = scaler.transform(X_test)\n\n# Print shape to confirm\nprint(f\"Scaled Training Data Shape: {X_train.shape}\")\nprint(f\"Scaled Testing Data Shape: {X_test.shape}\")\n",
      "metadata": {
        "trusted": true
      },
      "outputs": [
        {
          "name": "stdout",
          "output_type": "stream",
          "text": "Scaled Training Data Shape: (216, 13)\nScaled Testing Data Shape: (54, 13)\n"
        }
      ],
      "execution_count": 15
    },
    {
      "id": "b3b8fd8f-8d61-4030-a6a6-9d93ce730d97",
      "cell_type": "code",
      "source": "from sklearn.ensemble import RandomForestClassifier\nfrom sklearn.metrics import accuracy_score\n\n\n# Initialize and train Random Forest model\nrf_model = RandomForestClassifier(n_estimators=100, random_state=42)\nrf_model.fit(X_train, y_train)\n\n# Make predictions\ny_pred_rf = rf_model.predict(X_test)\n\n# Evaluate accuracy\nrf_accuracy = accuracy_score(y_test, y_pred_rf)\nprint(f\"Random Forest Accuracy: {rf_accuracy:.2f}\")\n",
      "metadata": {
        "trusted": true
      },
      "outputs": [
        {
          "name": "stdout",
          "output_type": "stream",
          "text": "Random Forest Accuracy: 0.76\n"
        }
      ],
      "execution_count": 18
    },
    {
      "id": "b19865c2-1d8f-41bb-b922-bb2b68da037e",
      "cell_type": "code",
      "source": "from sklearn.ensemble import RandomForestClassifier\nfrom sklearn.metrics import precision_score, recall_score\n\n# Train the model\nrf_model = RandomForestClassifier()\nrf_model.fit(X_train, y_train)\n\n# Make predictions\ny_pred = rf_model.predict(X_test)\n\n# Calculate precision and recall\nprecision = precision_score(y_test, y_pred)\nrecall = recall_score(y_test, y_pred)\n\nprint(\"Precision:\", precision)\nprint(\"Recall:\", recall)\n",
      "metadata": {
        "trusted": true
      },
      "outputs": [
        {
          "name": "stdout",
          "output_type": "stream",
          "text": "Precision: 0.9375\nRecall: 0.7142857142857143\n"
        }
      ],
      "execution_count": 20
    },
    {
      "id": "51f9a925-6645-421b-b18c-7823cba04daf",
      "cell_type": "code",
      "source": "from sklearn.ensemble import RandomForestRegressor\nfrom sklearn.metrics import mean_squared_error, r2_score\nimport numpy as np\n\n# Train the model\nrf_model = RandomForestRegressor()\nrf_model.fit(X_train, y_train)\n\n# Make predictions\ny_pred = rf_model.predict(X_test)\n\n# Calculate RMSE and R²\nrmse = np.sqrt(mean_squared_error(y_test, y_pred))\nr2 = r2_score(y_test, y_pred)\n\nprint(\"RMSE:\", rmse)\nprint(\"R²:\", r2)\n",
      "metadata": {
        "trusted": true
      },
      "outputs": [
        {
          "name": "stdout",
          "output_type": "stream",
          "text": "RMSE: 0.37435623755000075\nR²: 0.41030909090909096\n"
        }
      ],
      "execution_count": 21
    },
    {
      "id": "1a2f9e69-d3b7-42a0-a797-1c2b70a8a8eb",
      "cell_type": "code",
      "source": "",
      "metadata": {
        "trusted": true
      },
      "outputs": [],
      "execution_count": null
    }
  ]
}